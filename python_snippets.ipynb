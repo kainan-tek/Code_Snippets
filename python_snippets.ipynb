{
 "cells": [
  {
   "cell_type": "code",
   "execution_count": null,
   "source": [
    "# 列表模式\r\n",
    "import pandas as pd\r\n",
    "\r\n",
    "\r\n",
    "d = [[1, 2, 3], [4, 5, 6], [7, 8, 9]]\r\n",
    "df = pd.DataFrame(data=d)\r\n",
    "\r\n",
    "print(df)\r\n"
   ],
   "outputs": [],
   "metadata": {}
  },
  {
   "cell_type": "code",
   "execution_count": null,
   "source": [
    "# 字典模式\r\n",
    "import pandas as pd\r\n",
    "\r\n",
    "\r\n",
    "d = {\"1\": [1, 2, 3], \"2\": [4, 5, 6], '3': [7, 8, 9]}\r\n",
    "df = pd.DataFrame(data=d)\r\n",
    "\r\n",
    "print(df)\r\n"
   ],
   "outputs": [],
   "metadata": {}
  },
  {
   "cell_type": "code",
   "execution_count": null,
   "source": [
    "teams = ['Barcelona', 'Bayern Munich', 'Chelsea']\r\n",
    "leagues = ['La Liga', 'Bundesliga', 'Premiere League']\r\n",
    "countries = ['Spain', 'Germany', 'UK']\r\n",
    "\r\n",
    "# print(list(zip(teams, leagues, countries)))\r\n",
    "for team, league, country in zip(teams, leagues, countries):\r\n",
    "    print(f'{team} plays in {league}. Country: {country}')\r\n"
   ],
   "outputs": [],
   "metadata": {}
  },
  {
   "cell_type": "code",
   "execution_count": null,
   "source": [
    "\r\n",
    "from plotly.offline import plot\r\n",
    "import plotly.graph_objects as go\r\n",
    "\r\n",
    "d = {\"x\": [1, 2, 3], \"y1\": [1, 2, 3], \"y2\": [4, 5, 6], 'y3': [7, 8, 9]}\r\n",
    "\r\n",
    "trace1 = go.Scatter(x=d[\"x\"], y=d[\"y1\"], name=\"y1\", mode=\"markers+lines\", line=dict(color=\"green\"))\r\n",
    "trace2 = go.Scatter(x=d[\"x\"], y=d[\"y2\"], name=\"y2\", mode=\"markers+lines\", line=dict(color=\"red\"))\r\n",
    "trace3 = go.Scatter(x=d[\"x\"], y=d[\"y3\"], name=\"y3\", mode=\"markers+lines\", line=dict(color=\"blue\"))\r\n",
    "_data = [trace1, trace2, trace3]\r\n",
    "_layout = go.Layout(title=\"test\", xaxis=dict(title='X'), yaxis=dict(title='Y'), legend=dict(font_size=16))\r\n",
    "\r\n",
    "fig = go.Figure(data=_data, layout=_layout)\r\n",
    "plot(fig, filename='test.html')\r\n"
   ],
   "outputs": [],
   "metadata": {}
  }
 ],
 "metadata": {
  "kernelspec": {
   "name": "python3",
   "display_name": "Python 3.9.7 64-bit (system)"
  },
  "language_info": {
   "name": "python",
   "version": "3.9.7",
   "mimetype": "text/x-python",
   "codemirror_mode": {
    "name": "ipython",
    "version": 3
   },
   "pygments_lexer": "ipython3",
   "nbconvert_exporter": "python",
   "file_extension": ".py"
  },
  "interpreter": {
   "hash": "a01fe6cc916bd8c784dfd159aee9fe03908493e759e306747f60bdc86e41653e"
  }
 },
 "nbformat": 4,
 "nbformat_minor": 2
}